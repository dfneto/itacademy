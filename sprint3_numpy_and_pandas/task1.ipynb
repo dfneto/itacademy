{
 "cells": [
  {
   "cell_type": "code",
   "execution_count": 78,
   "metadata": {},
   "outputs": [],
   "source": [
    "# import libraries and load iris dataset\n",
    "import numpy as np\n",
    "import pandas as pd\n",
    "from sklearn import datasets\n",
    "iris = datasets.load_iris()"
   ]
  },
  {
   "cell_type": "code",
   "execution_count": 103,
   "metadata": {},
   "outputs": [
    {
     "name": "stdout",
     "output_type": "stream",
     "text": [
      "dict_keys(['data', 'target', 'frame', 'target_names', 'DESCR', 'feature_names', 'filename', 'data_module'])\n",
      "Iris features:  ['sepal length (cm)', 'sepal width (cm)', 'petal length (cm)', 'petal width (cm)']\n",
      "Iris targets:  ['setosa' 'versicolor' 'virginica']\n"
     ]
    }
   ],
   "source": [
    "# exploring a bit\n",
    "print(iris.keys())\n",
    "print(\"Iris feature names: \", iris.feature_names)\n",
    "print(\"Iris target names: \", iris.target_names)"
   ]
  },
  {
   "cell_type": "code",
   "execution_count": 104,
   "metadata": {},
   "outputs": [
    {
     "name": "stdout",
     "output_type": "stream",
     "text": [
      "[[5.1 3.5 1.4 0.2]\n",
      " [4.9 3.  1.4 0.2]\n",
      " [4.7 3.2 1.3 0.2]\n",
      " [4.6 3.1 1.5 0.2]\n",
      " [5.  3.6 1.4 0.2]\n",
      " [5.4 3.9 1.7 0.4]\n",
      " [4.6 3.4 1.4 0.3]\n",
      " [5.  3.4 1.5 0.2]\n",
      " [4.4 2.9 1.4 0.2]\n",
      " [4.9 3.1 1.5 0.1]]\n",
      "[0 0 0 0 0 0 0 0 0 0]\n"
     ]
    }
   ],
   "source": [
    "# 1- Load \"data\" and \"target\" from the dataset, and display the first 10 records of each.\n",
    "data = iris.data\n",
    "target = iris.target\n",
    "print(data[:10])\n",
    "print(target[:10])"
   ]
  },
  {
   "cell_type": "code",
   "execution_count": 114,
   "metadata": {},
   "outputs": [
    {
     "name": "stdout",
     "output_type": "stream",
     "text": [
      "   sepal_length  sepal_width  petal_length  petal_width Iris name\n",
      "0           5.1          3.5           1.4          0.2   sentosa\n",
      "1           4.9          3.0           1.4          0.2   sentosa\n",
      "2           4.7          3.2           1.3          0.2   sentosa\n",
      "3           4.6          3.1           1.5          0.2   sentosa\n",
      "4           5.0          3.6           1.4          0.2   sentosa\n"
     ]
    }
   ],
   "source": [
    "# 2- Concatenate “data” and \"target\" into a new array. Show the first 5 records.\n",
    "feature_names = ['sepal_length', 'sepal_width', 'petal_length', 'petal_width']\n",
    "df = pd.DataFrame(data=data, columns=feature_names)\n",
    "df['Iris name'] = target\n",
    "df['Iris name'] = df['Iris name'].apply(lambda x: 'sentosa' if x == 0 else ('versicolor' if x == 1 else 'virginica'))\n",
    "print(df[:5])"
   ]
  },
  {
   "cell_type": "code",
   "execution_count": 115,
   "metadata": {},
   "outputs": [
    {
     "name": "stdout",
     "output_type": "stream",
     "text": [
      "Sepal length mean:  5.84\n",
      "Sepal standard deviation:  0.83\n",
      "Petal length mean:  3.76\n",
      "Petal standard deviation:  1.77\n",
      "<bound method NDFrame.describe of      sepal_length  sepal_width  petal_length  petal_width  Iris name\n",
      "0             5.1          3.5           1.4          0.2    sentosa\n",
      "1             4.9          3.0           1.4          0.2    sentosa\n",
      "2             4.7          3.2           1.3          0.2    sentosa\n",
      "3             4.6          3.1           1.5          0.2    sentosa\n",
      "4             5.0          3.6           1.4          0.2    sentosa\n",
      "..            ...          ...           ...          ...        ...\n",
      "145           6.7          3.0           5.2          2.3  virginica\n",
      "146           6.3          2.5           5.0          1.9  virginica\n",
      "147           6.5          3.0           5.2          2.0  virginica\n",
      "148           6.2          3.4           5.4          2.3  virginica\n",
      "149           5.9          3.0           5.1          1.8  virginica\n",
      "\n",
      "[150 rows x 5 columns]>\n"
     ]
    }
   ],
   "source": [
    "# 3- Calculate the mean and standard deviation of sepal length (\"sepal length (cm)\") \n",
    "# and petal length (\"petal length (cm)\"). Display results to two decimal places.\n",
    "mean_sepal = round(df['sepal_length'].mean(),2)\n",
    "print(\"Sepal length mean: \", mean_sepal)\n",
    "standard_deviation_sepal = round(df['sepal_length'].std(), 2)\n",
    "print(\"Sepal standard deviation: \", standard_deviation_sepal)\n",
    "\n",
    "mean_sepal = round(df['petal_length'].mean(),2)\n",
    "print(\"Petal length mean: \", mean_sepal)\n",
    "standard_deviation_sepal = round(df['petal_length'].std(), 2)\n",
    "print(\"Petal standard deviation: \", standard_deviation_sepal)\n",
    "\n",
    "--> parei aqui: print(df.describe)"
   ]
  },
  {
   "cell_type": "code",
   "execution_count": 28,
   "metadata": {},
   "outputs": [
    {
     "name": "stdout",
     "output_type": "stream",
     "text": [
      "     sepal_length  sepal_width  petal_length  petal_width\n",
      "79            5.7          2.6           3.5          1.0\n",
      "72            6.3          2.5           4.9          1.5\n",
      "5             5.4          3.9           1.7          0.4\n",
      "12            4.8          3.0           1.4          0.1\n",
      "139           6.9          3.1           5.4          2.1\n",
      "82            5.8          2.7           3.9          1.2\n",
      "140           6.7          3.1           5.6          2.4\n",
      "51            6.4          3.2           4.5          1.5\n",
      "116           6.5          3.0           5.5          1.8\n",
      "147           6.5          3.0           5.2          2.0\n",
      "11            4.8          3.4           1.6          0.2\n",
      "73            6.1          2.8           4.7          1.2\n",
      "80            5.5          2.4           3.8          1.1\n",
      "0             5.1          3.5           1.4          0.2\n",
      "8             4.4          2.9           1.4          0.2\n",
      "43            5.0          3.5           1.6          0.6\n",
      "81            5.5          2.4           3.7          1.0\n",
      "89            5.5          2.5           4.0          1.3\n",
      "59            5.2          2.7           3.9          1.4\n",
      "29            4.7          3.2           1.6          0.2\n"
     ]
    }
   ],
   "source": [
    "# 4- Select a random sample of 20 records from the dataset\n",
    "random_20_records = df.sample(n=20)\n",
    "print(random_20_records)"
   ]
  },
  {
   "cell_type": "code",
   "execution_count": 82,
   "metadata": {},
   "outputs": [
    {
     "data": {
      "text/html": [
       "<div>\n",
       "<style scoped>\n",
       "    .dataframe tbody tr th:only-of-type {\n",
       "        vertical-align: middle;\n",
       "    }\n",
       "\n",
       "    .dataframe tbody tr th {\n",
       "        vertical-align: top;\n",
       "    }\n",
       "\n",
       "    .dataframe thead th {\n",
       "        text-align: right;\n",
       "    }\n",
       "</style>\n",
       "<table border=\"1\" class=\"dataframe\">\n",
       "  <thead>\n",
       "    <tr style=\"text-align: right;\">\n",
       "      <th></th>\n",
       "      <th>Median</th>\n",
       "      <th>Standard</th>\n",
       "    </tr>\n",
       "  </thead>\n",
       "  <tbody>\n",
       "    <tr>\n",
       "      <th>sepal_length</th>\n",
       "      <td>5.84</td>\n",
       "      <td>0.83</td>\n",
       "    </tr>\n",
       "    <tr>\n",
       "      <th>sepal_width</th>\n",
       "      <td>3.06</td>\n",
       "      <td>0.44</td>\n",
       "    </tr>\n",
       "    <tr>\n",
       "      <th>petal_length</th>\n",
       "      <td>3.76</td>\n",
       "      <td>1.77</td>\n",
       "    </tr>\n",
       "    <tr>\n",
       "      <th>petal_width</th>\n",
       "      <td>1.20</td>\n",
       "      <td>0.76</td>\n",
       "    </tr>\n",
       "  </tbody>\n",
       "</table>\n",
       "</div>"
      ],
      "text/plain": [
       "              Median  Standard\n",
       "sepal_length    5.84      0.83\n",
       "sepal_width     3.06      0.44\n",
       "petal_length    3.76      1.77\n",
       "petal_width     1.20      0.76"
      ]
     },
     "execution_count": 82,
     "metadata": {},
     "output_type": "execute_result"
    }
   ],
   "source": [
    "# 5- Create an array that displays: \n",
    "# The average of each characteristic by species; \n",
    "# The standard deviation of each characteristic by species.\n",
    "\n",
    "mean_sepal_length = df['sepal_length'].mean().round(2) #5.84\n",
    "mean_sepal_width = df['sepal_width'].mean().round(2) #3.06\n",
    "mean_petal_length = df['petal_length'].mean().round(2) #3.76\n",
    "mean_petal_width = df['petal_width'].mean().round(2) #1.2\n",
    "mean = [mean_sepal_length, mean_sepal_width, mean_petal_length, mean_petal_width]\n",
    "\n",
    "std_sepal_lenth = df['sepal_length'].std().round(2)\n",
    "std_sepal_width = df['sepal_width'].std().round(2)\n",
    "std_petal_lenth = df['petal_length'].std().round(2)\n",
    "std_petal_width = df['petal_width'].std().round(2)\n",
    "std = [std_sepal_lenth, std_sepal_width, std_petal_lenth, std_petal_width]\n",
    "\n",
    "mean_and_std = pd.DataFrame(np.column_stack([mean, std]), index=features_names, columns=['Median', 'Standard'])\n",
    "mean_and_std"
   ]
  },
  {
   "cell_type": "code",
   "execution_count": 89,
   "metadata": {},
   "outputs": [
    {
     "name": "stdout",
     "output_type": "stream",
     "text": [
      "Total of sepal: 150 \n",
      "Total of petal: 150\n"
     ]
    }
   ],
   "source": [
    "# 6 - Calculate the amount of samples per species and\n",
    "# Find the species with the average maximum value of the \"sepal length (cm)\" variable\n",
    "print(f\"Total of sepal: {df['sepal_length'].shape[0]} \\nTotal of petal: {df['petal_length'].shape[0]}\")\n"
   ]
  }
 ],
 "metadata": {
  "kernelspec": {
   "display_name": "venv_ita",
   "language": "python",
   "name": "python3"
  },
  "language_info": {
   "codemirror_mode": {
    "name": "ipython",
    "version": 3
   },
   "file_extension": ".py",
   "mimetype": "text/x-python",
   "name": "python",
   "nbconvert_exporter": "python",
   "pygments_lexer": "ipython3",
   "version": "3.11.5"
  },
  "orig_nbformat": 4
 },
 "nbformat": 4,
 "nbformat_minor": 2
}
