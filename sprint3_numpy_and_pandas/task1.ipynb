{
 "cells": [
  {
   "cell_type": "code",
   "execution_count": 27,
   "metadata": {},
   "outputs": [],
   "source": [
    "# Importing libraries and load iris dataset\n",
    "import numpy as np\n",
    "from sklearn import datasets\n",
    "iris = datasets.load_iris()"
   ]
  },
  {
   "cell_type": "code",
   "execution_count": 28,
   "metadata": {},
   "outputs": [
    {
     "name": "stdout",
     "output_type": "stream",
     "text": [
      "dict_keys(['data', 'target', 'frame', 'target_names', 'DESCR', 'feature_names', 'filename', 'data_module'])\n",
      "Iris feature names:  ['sepal length (cm)', 'sepal width (cm)', 'petal length (cm)', 'petal width (cm)']\n",
      "Iris target names:  ['setosa' 'versicolor' 'virginica']\n"
     ]
    }
   ],
   "source": [
    "# Exploring a bit\n",
    "print(iris.keys())\n",
    "print(\"Iris feature names: \", iris.feature_names)\n",
    "print(\"Iris target names: \", iris.target_names)"
   ]
  },
  {
   "cell_type": "code",
   "execution_count": 29,
   "metadata": {},
   "outputs": [
    {
     "name": "stdout",
     "output_type": "stream",
     "text": [
      "[[5.1 3.5 1.4 0.2]\n",
      " [4.9 3.  1.4 0.2]\n",
      " [4.7 3.2 1.3 0.2]\n",
      " [4.6 3.1 1.5 0.2]\n",
      " [5.  3.6 1.4 0.2]\n",
      " [5.4 3.9 1.7 0.4]\n",
      " [4.6 3.4 1.4 0.3]\n",
      " [5.  3.4 1.5 0.2]\n",
      " [4.4 2.9 1.4 0.2]\n",
      " [4.9 3.1 1.5 0.1]]\n",
      "[[0]\n",
      " [0]\n",
      " [0]\n",
      " [0]\n",
      " [0]\n",
      " [0]\n",
      " [0]\n",
      " [0]\n",
      " [0]\n",
      " [0]]\n"
     ]
    }
   ],
   "source": [
    "# 1- Load \"data\" and \"target\" from the dataset, and display the first 10 records of each.\n",
    "data = np.array(iris.data)\n",
    "target_1D = np.array(iris.target) # eh um flat array, ou seja, uma linha somente, não existe colunas porque se tratar de uma dimensão\n",
    "# print(target_1D.shape)\n",
    "target = target_1D[:, np.newaxis] #transformo o array de 1D em 2D e agora passa a ter 150 linhas e 1 coluna\n",
    "# print(target.shape)\n",
    "print(data[:10])\n",
    "print(target[:10])"
   ]
  },
  {
   "cell_type": "code",
   "execution_count": 30,
   "metadata": {},
   "outputs": [
    {
     "name": "stdout",
     "output_type": "stream",
     "text": [
      "[[5.1 3.5 1.4 0.2 0. ]\n",
      " [4.9 3.  1.4 0.2 0. ]\n",
      " [4.7 3.2 1.3 0.2 0. ]\n",
      " [4.6 3.1 1.5 0.2 0. ]\n",
      " [5.  3.6 1.4 0.2 0. ]]\n"
     ]
    }
   ],
   "source": [
    "# 2 - Concatenate “data” and \"target\" into a new array. Show the first 5 records.\n",
    "matrix = np.concatenate((data, target), axis=1)\n",
    "print(matrix[:5])"
   ]
  },
  {
   "cell_type": "code",
   "execution_count": 31,
   "metadata": {},
   "outputs": [
    {
     "name": "stdout",
     "output_type": "stream",
     "text": [
      "Sepal length mean:  5.84\n",
      "Sepal length std:  0.83\n",
      "Petal length mean:  3.76\n",
      "Petal length std:  1.76\n"
     ]
    }
   ],
   "source": [
    "# 3 - Calculate the mean and standard deviation of sepal length (\"sepal length (cm)\") \n",
    "# and petal length (\"petal length (cm)\"). Display results to two decimal places.\n",
    "mean_sepal = matrix[:,0].mean().round(2)\n",
    "print(\"Sepal length mean: \", mean_sepal)\n",
    "std_sepal = matrix[:,0].std().round(2)\n",
    "print(\"Sepal length std: \", std_sepal)\n",
    "\n",
    "mean_petal = matrix[:,2].mean().round(2)\n",
    "print(\"Petal length mean: \", mean_petal)\n",
    "std_petal = matrix[:,2].std().round(2)\n",
    "print(\"Petal length std: \", std_petal)"
   ]
  },
  {
   "cell_type": "code",
   "execution_count": 32,
   "metadata": {},
   "outputs": [
    {
     "data": {
      "text/plain": [
       "array([[5.7, 2.5, 5. , 2. , 2. ],\n",
       "       [6.4, 2.7, 5.3, 1.9, 2. ],\n",
       "       [6.3, 2.7, 4.9, 1.8, 2. ],\n",
       "       [7.6, 3. , 6.6, 2.1, 2. ],\n",
       "       [6.7, 3.3, 5.7, 2.1, 2. ],\n",
       "       [5.4, 3.7, 1.5, 0.2, 0. ],\n",
       "       [4.9, 3.1, 1.5, 0.1, 0. ],\n",
       "       [6.2, 3.4, 5.4, 2.3, 2. ],\n",
       "       [6.7, 3.1, 4.7, 1.5, 1. ],\n",
       "       [4.8, 3. , 1.4, 0.1, 0. ],\n",
       "       [4.6, 3.1, 1.5, 0.2, 0. ],\n",
       "       [5.8, 2.7, 5.1, 1.9, 2. ],\n",
       "       [5.2, 4.1, 1.5, 0.1, 0. ],\n",
       "       [6.4, 2.7, 5.3, 1.9, 2. ],\n",
       "       [5.6, 2.7, 4.2, 1.3, 1. ],\n",
       "       [5.5, 2.4, 3.7, 1. , 1. ],\n",
       "       [5.6, 2.8, 4.9, 2. , 2. ],\n",
       "       [5. , 3.3, 1.4, 0.2, 0. ],\n",
       "       [6. , 2.7, 5.1, 1.6, 1. ],\n",
       "       [5.7, 3.8, 1.7, 0.3, 0. ]])"
      ]
     },
     "execution_count": 32,
     "metadata": {},
     "output_type": "execute_result"
    }
   ],
   "source": [
    "# 4 - Select a random sample of 20 records from the dataset\n",
    "random_indices = np.random.randint(0, 149, 20)\n",
    "random_indices\n",
    "matrix[random_indices]"
   ]
  },
  {
   "cell_type": "code",
   "execution_count": 33,
   "metadata": {},
   "outputs": [
    {
     "name": "stdout",
     "output_type": "stream",
     "text": [
      "The setosa mean: [5.006 3.428 1.462 0.246]\n",
      "The setosa std: [0.34894699 0.37525458 0.17191859 0.10432641]\n",
      "The versicolor mean: [5.936 2.77  4.26  1.326]\n",
      "The versicolor std: [0.51098337 0.31064449 0.46518813 0.19576517]\n",
      "The virginica mean: [6.588 2.974 5.552 2.026]\n",
      "The virginica std: [0.62948868 0.31925538 0.54634787 0.27188968]\n"
     ]
    }
   ],
   "source": [
    "# 5 - Create an array that displays: \n",
    "# The average of each characteristic by species; \n",
    "# The standard deviation of each characteristic by species.\n",
    "# column 4: 0 sentosa, 1 virginica, 2 virginica\n",
    "setosa = matrix[matrix[:, 4] == 0]\n",
    "versicolor = matrix[matrix[:, 4] == 1]\n",
    "virginica = matrix[matrix[:, 4] == 2]\n",
    "\n",
    "# characteristics: ['sepal_length', 'sepal_width', 'petal_length', 'petal_width']\n",
    "setosa_mean = np.array([setosa[:, 0].mean(), setosa[:, 1].mean(), setosa[:, 2].mean(), setosa[:, 3].mean()])\n",
    "setosa_std = np.array([setosa[:, 0].std(), setosa[:, 1].std(), setosa[:, 2].std(), setosa[:, 3].std()])\n",
    "\n",
    "versicolor_mean = np.array([versicolor[:, 0].mean(), versicolor[:, 1].mean(), versicolor[:, 2].mean(), versicolor[:, 3].mean()])\n",
    "versicolor_std = np.array([versicolor[:, 0].std(), versicolor[:, 1].std(), versicolor[:, 2].std(), versicolor[:, 3].std()])\n",
    "\n",
    "virginica_mean = np.array([virginica[:, 0].mean(), virginica[:, 1].mean(), virginica[:, 2].mean(), virginica[:, 3].mean()])\n",
    "virginica_std = np.array([virginica[:, 0].std(), virginica[:, 1].std(), virginica[:, 2].std(), virginica[:, 3].std()])\n",
    "\n",
    "print(f\"The setosa mean: {setosa_mean}\")\n",
    "print(f\"The setosa std: {setosa_std}\")\n",
    "print(f\"The versicolor mean: {versicolor_mean}\")\n",
    "print(f\"The versicolor std: {versicolor_std}\")\n",
    "print(f\"The virginica mean: {virginica_mean}\")\n",
    "print(f\"The virginica std: {virginica_std}\")\n"
   ]
  },
  {
   "cell_type": "code",
   "execution_count": 34,
   "metadata": {},
   "outputs": [
    {
     "name": "stdout",
     "output_type": "stream",
     "text": [
      "Amount of elements per specie: \n",
      "Setosa: 50\n",
      "Versicolor: 50\n",
      "Virginica: 50\n",
      "The specie with the average maximum value of the sepal length (cm): 6.587999999999998 cm\n"
     ]
    }
   ],
   "source": [
    "# 6 - Calculate the amount of samples per species and\n",
    "# Find the species with the average maximum value of the \"sepal length (cm)\" variable\n",
    "print(f\"Amount of elements per specie: \")\n",
    "print(f\"Setosa: {setosa.shape[0]}\")\n",
    "print(f\"Versicolor: {versicolor.shape[0]}\")\n",
    "print(f\"Virginica: {virginica.shape[0]}\")\n",
    "print(f\"The specie with the average maximum value of the sepal length (cm): {virginica[:, 0].mean()} cm\")"
   ]
  },
  {
   "cell_type": "code",
   "execution_count": 39,
   "metadata": {},
   "outputs": [
    {
     "name": "stdout",
     "output_type": "stream",
     "text": [
      "The correlation Matrix:\n",
      "[[ 1.         -0.11756978  0.87175378  0.81794113]\n",
      " [-0.11756978  1.         -0.4284401  -0.36612593]\n",
      " [ 0.87175378 -0.4284401   1.          0.96286543]\n",
      " [ 0.81794113 -0.36612593  0.96286543  1.        ]]\n",
      "values greater than the avarage petal length:\n",
      "[[7.  3.2 4.7 1.4 1. ]\n",
      " [6.4 3.2 4.5 1.5 1. ]\n",
      " [6.9 3.1 4.9 1.5 1. ]\n",
      " [5.5 2.3 4.  1.3 1. ]\n",
      " [6.5 2.8 4.6 1.5 1. ]\n",
      " [5.7 2.8 4.5 1.3 1. ]\n",
      " [6.3 3.3 4.7 1.6 1. ]\n",
      " [6.6 2.9 4.6 1.3 1. ]\n",
      " [5.2 2.7 3.9 1.4 1. ]\n",
      " [5.9 3.  4.2 1.5 1. ]\n",
      " [6.  2.2 4.  1.  1. ]\n",
      " [6.1 2.9 4.7 1.4 1. ]\n",
      " [6.7 3.1 4.4 1.4 1. ]\n",
      " [5.6 3.  4.5 1.5 1. ]\n",
      " [5.8 2.7 4.1 1.  1. ]\n",
      " [6.2 2.2 4.5 1.5 1. ]\n",
      " [5.6 2.5 3.9 1.1 1. ]\n",
      " [5.9 3.2 4.8 1.8 1. ]\n",
      " [6.1 2.8 4.  1.3 1. ]\n",
      " [6.3 2.5 4.9 1.5 1. ]\n",
      " [6.1 2.8 4.7 1.2 1. ]\n",
      " [6.4 2.9 4.3 1.3 1. ]\n",
      " [6.6 3.  4.4 1.4 1. ]\n",
      " [6.8 2.8 4.8 1.4 1. ]\n",
      " [6.7 3.  5.  1.7 1. ]\n",
      " [6.  2.9 4.5 1.5 1. ]\n",
      " [5.5 2.4 3.8 1.1 1. ]\n",
      " [5.8 2.7 3.9 1.2 1. ]\n",
      " [6.  2.7 5.1 1.6 1. ]\n",
      " [5.4 3.  4.5 1.5 1. ]\n",
      " [6.  3.4 4.5 1.6 1. ]\n",
      " [6.7 3.1 4.7 1.5 1. ]\n",
      " [6.3 2.3 4.4 1.3 1. ]\n",
      " [5.6 3.  4.1 1.3 1. ]\n",
      " [5.5 2.5 4.  1.3 1. ]\n",
      " [5.5 2.6 4.4 1.2 1. ]\n",
      " [6.1 3.  4.6 1.4 1. ]\n",
      " [5.8 2.6 4.  1.2 1. ]\n",
      " [5.6 2.7 4.2 1.3 1. ]\n",
      " [5.7 3.  4.2 1.2 1. ]\n",
      " [5.7 2.9 4.2 1.3 1. ]\n",
      " [6.2 2.9 4.3 1.3 1. ]\n",
      " [5.7 2.8 4.1 1.3 1. ]\n",
      " [6.3 3.3 6.  2.5 2. ]\n",
      " [5.8 2.7 5.1 1.9 2. ]\n",
      " [7.1 3.  5.9 2.1 2. ]\n",
      " [6.3 2.9 5.6 1.8 2. ]\n",
      " [6.5 3.  5.8 2.2 2. ]\n",
      " [7.6 3.  6.6 2.1 2. ]\n",
      " [4.9 2.5 4.5 1.7 2. ]\n",
      " [7.3 2.9 6.3 1.8 2. ]\n",
      " [6.7 2.5 5.8 1.8 2. ]\n",
      " [7.2 3.6 6.1 2.5 2. ]\n",
      " [6.5 3.2 5.1 2.  2. ]\n",
      " [6.4 2.7 5.3 1.9 2. ]\n",
      " [6.8 3.  5.5 2.1 2. ]\n",
      " [5.7 2.5 5.  2.  2. ]\n",
      " [5.8 2.8 5.1 2.4 2. ]\n",
      " [6.4 3.2 5.3 2.3 2. ]\n",
      " [6.5 3.  5.5 1.8 2. ]\n",
      " [7.7 3.8 6.7 2.2 2. ]\n",
      " [7.7 2.6 6.9 2.3 2. ]\n",
      " [6.  2.2 5.  1.5 2. ]\n",
      " [6.9 3.2 5.7 2.3 2. ]\n",
      " [5.6 2.8 4.9 2.  2. ]\n",
      " [7.7 2.8 6.7 2.  2. ]\n",
      " [6.3 2.7 4.9 1.8 2. ]\n",
      " [6.7 3.3 5.7 2.1 2. ]\n",
      " [7.2 3.2 6.  1.8 2. ]\n",
      " [6.2 2.8 4.8 1.8 2. ]\n",
      " [6.1 3.  4.9 1.8 2. ]\n",
      " [6.4 2.8 5.6 2.1 2. ]\n",
      " [7.2 3.  5.8 1.6 2. ]\n",
      " [7.4 2.8 6.1 1.9 2. ]\n",
      " [7.9 3.8 6.4 2.  2. ]\n",
      " [6.4 2.8 5.6 2.2 2. ]\n",
      " [6.3 2.8 5.1 1.5 2. ]\n",
      " [6.1 2.6 5.6 1.4 2. ]\n",
      " [7.7 3.  6.1 2.3 2. ]\n",
      " [6.3 3.4 5.6 2.4 2. ]\n",
      " [6.4 3.1 5.5 1.8 2. ]\n",
      " [6.  3.  4.8 1.8 2. ]\n",
      " [6.9 3.1 5.4 2.1 2. ]\n",
      " [6.7 3.1 5.6 2.4 2. ]\n",
      " [6.9 3.1 5.1 2.3 2. ]\n",
      " [5.8 2.7 5.1 1.9 2. ]\n",
      " [6.8 3.2 5.9 2.3 2. ]\n",
      " [6.7 3.3 5.7 2.5 2. ]\n",
      " [6.7 3.  5.2 2.3 2. ]\n",
      " [6.3 2.5 5.  1.9 2. ]\n",
      " [6.5 3.  5.2 2.  2. ]\n",
      " [6.2 3.4 5.4 2.3 2. ]\n",
      " [5.9 3.  5.1 1.8 2. ]]\n",
      "The specie with the largest petals is Virginica as it can see:\n",
      "[[7.7 2.6 6.9 2.3 2. ]]\n"
     ]
    }
   ],
   "source": [
    "# 7 - Calculate the correlation matrix between the variables\n",
    "# Filter values greater than the avarage petal length and display it\n",
    "# Filter the specie with the largest petals\n",
    "data = matrix[:,0:4]\n",
    "print(f\"The correlation Matrix:\\n{np.corrcoef(data.T)}\")\n",
    "\n",
    "petal_length_greater_mean = matrix[:,2] > mean_petal\n",
    "print(f\"values greater than the avarage petal length:\\n{matrix[petal_length_greater_mean]}\")\n",
    "\n",
    "largest_petal = data[:, 2].max()\n",
    "print(f\"The specie with the largest petals is Virginica as it can see:\\n{matrix[matrix[:,2] == largest_petal]}\")\n"
   ]
  },
  {
   "cell_type": "code",
   "execution_count": 61,
   "metadata": {},
   "outputs": [
    {
     "name": "stdout",
     "output_type": "stream",
     "text": [
      "The absolute differences between petal and sepal are: [3.544, 1.0359999999999978, 1.6760000000000002]\n",
      " and the specie with largest difference is the setosa as we can see: np.argmax(differences): 0\n"
     ]
    }
   ],
   "source": [
    "# 8 - Find the species with the largest difference between the avarage length of sepals and petals\n",
    "# 0 sentosa, 1 virginica, 2 virginica\n",
    "# ['sepal_length', 'sepal_width', 'petal_length', 'petal_width']\n",
    "setosa_sepal_mean = matrix[matrix[:,4] == 0][:,0].mean()\n",
    "setosa_petal_mean = matrix[matrix[:,4] == 0][:,2].mean()\n",
    "virginica_sepal_mean = virginica_mean[0]\n",
    "virignica_petal_mean = virginica_mean[2]\n",
    "versicolor_sepal_mean = versicolor_mean[0]\n",
    "versicolor_petal_mean = versicolor_mean[2]\n",
    "differences = [np.abs(setosa_petal_mean - setosa_sepal_mean), \n",
    "               np.abs(virignica_petal_mean - virginica_sepal_mean), np.abs(versicolor_petal_mean - versicolor_sepal_mean)]\n",
    "print(f\"The absolute differences between petal and sepal are: {differences}\\n\" \n",
    "      f\"and the specie with largest difference is the setosa as we can see: np.argmax(differences): {np.argmax(differences)}\")"
   ]
  }
 ],
 "metadata": {
  "kernelspec": {
   "display_name": "venv_ita",
   "language": "python",
   "name": "python3"
  },
  "language_info": {
   "codemirror_mode": {
    "name": "ipython",
    "version": 3
   },
   "file_extension": ".py",
   "mimetype": "text/x-python",
   "name": "python",
   "nbconvert_exporter": "python",
   "pygments_lexer": "ipython3",
   "version": "3.11.5"
  },
  "orig_nbformat": 4
 },
 "nbformat": 4,
 "nbformat_minor": 2
}
