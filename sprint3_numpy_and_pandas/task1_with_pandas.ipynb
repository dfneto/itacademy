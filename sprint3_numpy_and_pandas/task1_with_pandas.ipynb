{
 "cells": [
  {
   "cell_type": "code",
   "execution_count": 1,
   "metadata": {},
   "outputs": [],
   "source": [
    "# import libraries and load iris dataset\n",
    "import numpy as np\n",
    "import pandas as pd\n",
    "from sklearn import datasets\n",
    "iris = datasets.load_iris()"
   ]
  },
  {
   "cell_type": "code",
   "execution_count": 3,
   "metadata": {},
   "outputs": [
    {
     "name": "stdout",
     "output_type": "stream",
     "text": [
      "dict_keys(['data', 'target', 'frame', 'target_names', 'DESCR', 'feature_names', 'filename', 'data_module'])\n",
      "Iris feature names:  ['sepal length (cm)', 'sepal width (cm)', 'petal length (cm)', 'petal width (cm)']\n",
      "Iris target names:  ['setosa' 'versicolor' 'virginica']\n"
     ]
    }
   ],
   "source": [
    "# exploring a bit\n",
    "print(iris.keys())\n",
    "print(\"Iris feature names: \", iris.feature_names)\n",
    "print(\"Iris target names: \", iris.target_names)"
   ]
  },
  {
   "cell_type": "code",
   "execution_count": 2,
   "metadata": {},
   "outputs": [
    {
     "name": "stdout",
     "output_type": "stream",
     "text": [
      "[[5.1 3.5 1.4 0.2]\n",
      " [4.9 3.  1.4 0.2]\n",
      " [4.7 3.2 1.3 0.2]\n",
      " [4.6 3.1 1.5 0.2]\n",
      " [5.  3.6 1.4 0.2]\n",
      " [5.4 3.9 1.7 0.4]\n",
      " [4.6 3.4 1.4 0.3]\n",
      " [5.  3.4 1.5 0.2]\n",
      " [4.4 2.9 1.4 0.2]\n",
      " [4.9 3.1 1.5 0.1]]\n",
      "[0 0 0 0 0 0 0 0 0 0]\n"
     ]
    }
   ],
   "source": [
    "# 1- Load \"data\" and \"target\" from the dataset, and display the first 10 records of each.\n",
    "data = iris.data\n",
    "target = iris.target\n",
    "print(data[:10])\n",
    "print(target[:10])"
   ]
  },
  {
   "cell_type": "code",
   "execution_count": 3,
   "metadata": {},
   "outputs": [
    {
     "name": "stdout",
     "output_type": "stream",
     "text": [
      "   sepal_length  sepal_width  petal_length  petal_width Iris name\n",
      "0           5.1          3.5           1.4          0.2   sentosa\n",
      "1           4.9          3.0           1.4          0.2   sentosa\n",
      "2           4.7          3.2           1.3          0.2   sentosa\n",
      "3           4.6          3.1           1.5          0.2   sentosa\n",
      "4           5.0          3.6           1.4          0.2   sentosa\n"
     ]
    }
   ],
   "source": [
    "# 2- Concatenate “data” and \"target\" into a new array. Show the first 5 records.\n",
    "feature_names = ['sepal_length', 'sepal_width', 'petal_length', 'petal_width']\n",
    "df = pd.DataFrame(data=data, columns=feature_names)\n",
    "df['Iris name'] = target\n",
    "df['Iris name'] = df['Iris name'].apply(lambda x: 'sentosa' if x == 0 else ('versicolor' if x == 1 else 'virginica'))\n",
    "print(df[:5])"
   ]
  },
  {
   "cell_type": "code",
   "execution_count": 153,
   "metadata": {},
   "outputs": [
    {
     "name": "stdout",
     "output_type": "stream",
     "text": [
      "Sepal length mean:  5.84\n",
      "Sepal standard deviation:  0.83\n",
      "Petal length mean:  3.76\n",
      "Petal standard deviation:  1.76\n",
      "Checking the values:\n",
      "        sepal_length  sepal_width  petal_length  petal_width\n",
      "count    150.000000   150.000000    150.000000   150.000000\n",
      "mean       5.843333     3.057333      3.758000     1.199333\n",
      "std        0.828066     0.435866      1.765298     0.762238\n",
      "min        4.300000     2.000000      1.000000     0.100000\n",
      "25%        5.100000     2.800000      1.600000     0.300000\n",
      "50%        5.800000     3.000000      4.350000     1.300000\n",
      "75%        6.400000     3.300000      5.100000     1.800000\n",
      "max        7.900000     4.400000      6.900000     2.500000\n"
     ]
    }
   ],
   "source": [
    "# 3- Calculate the mean and standard deviation of sepal length (\"sepal length (cm)\") \n",
    "# and petal length (\"petal length (cm)\"). Display results to two decimal places.\n",
    "print(\"Sepal length mean: \", np.mean(df['sepal_length']).round(2))\n",
    "print(\"Sepal standard deviation: \", np.std(df['sepal_length']).round(2))\n",
    "\n",
    "print(\"Petal length mean: \", np.mean(df['petal_length']).round(2))\n",
    "print(\"Petal standard deviation: \", np.std(df['petal_length']).round(2))\n",
    "\n",
    "print(\"Checking the values:\\n\", df.describe())"
   ]
  },
  {
   "cell_type": "code",
   "execution_count": 4,
   "metadata": {},
   "outputs": [
    {
     "name": "stdout",
     "output_type": "stream",
     "text": [
      "     sepal_length  sepal_width  petal_length  petal_width   Iris name\n",
      "74            6.4          2.9           4.3          1.3  versicolor\n",
      "91            6.1          3.0           4.6          1.4  versicolor\n",
      "124           6.7          3.3           5.7          2.1   virginica\n",
      "119           6.0          2.2           5.0          1.5   virginica\n",
      "95            5.7          3.0           4.2          1.2  versicolor\n",
      "19            5.1          3.8           1.5          0.3     sentosa\n",
      "99            5.7          2.8           4.1          1.3  versicolor\n",
      "114           5.8          2.8           5.1          2.4   virginica\n",
      "149           5.9          3.0           5.1          1.8   virginica\n",
      "80            5.5          2.4           3.8          1.1  versicolor\n",
      "131           7.9          3.8           6.4          2.0   virginica\n",
      "140           6.7          3.1           5.6          2.4   virginica\n",
      "123           6.3          2.7           4.9          1.8   virginica\n",
      "10            5.4          3.7           1.5          0.2     sentosa\n",
      "135           7.7          3.0           6.1          2.3   virginica\n",
      "147           6.5          3.0           5.2          2.0   virginica\n",
      "72            6.3          2.5           4.9          1.5  versicolor\n",
      "18            5.7          3.8           1.7          0.3     sentosa\n",
      "70            5.9          3.2           4.8          1.8  versicolor\n",
      "5             5.4          3.9           1.7          0.4     sentosa\n"
     ]
    }
   ],
   "source": [
    "# 4- Select a random sample of 20 records from the dataset\n",
    "random_20_records = df.sample(n=20)\n",
    "print(random_20_records)"
   ]
  },
  {
   "cell_type": "code",
   "execution_count": 5,
   "metadata": {},
   "outputs": [
    {
     "name": "stdout",
     "output_type": "stream",
     "text": [
      "            sepal_length  sepal_width  petal_length  petal_width\n",
      "Iris name                                                       \n",
      "sentosa            5.006        3.428         1.462        0.246\n",
      "versicolor         5.936        2.770         4.260        1.326\n",
      "virginica          6.588        2.974         5.552        2.026\n",
      "            sepal_length  sepal_width  petal_length  petal_width\n",
      "Iris name                                                       \n",
      "sentosa         0.352490     0.379064      0.173664     0.105386\n",
      "versicolor      0.516171     0.313798      0.469911     0.197753\n",
      "virginica       0.635880     0.322497      0.551895     0.274650\n"
     ]
    }
   ],
   "source": [
    "# 5- Create an array that displays: \n",
    "# The average of each characteristic by species; \n",
    "# The standard deviation of each characteristic by species.\n",
    "print(df.groupby(['Iris name']).mean())\n",
    "print(df.groupby(['Iris name']).std())"
   ]
  },
  {
   "cell_type": "code",
   "execution_count": 72,
   "metadata": {},
   "outputs": [
    {
     "name": "stdout",
     "output_type": "stream",
     "text": [
      "Iris name\n",
      "sentosa       50\n",
      "versicolor    50\n",
      "virginica     50\n",
      "dtype: int64\n",
      "The specie with the average maximum value of the sepal length (cm):  virginica 6.587999999999999 cm\n"
     ]
    }
   ],
   "source": [
    "# 6- Calculate the amount of samples per species and\n",
    "# Find the species with the average maximum value of the \"sepal length (cm)\" variable\n",
    "print(df.groupby(['Iris name']).size())\n",
    "\n",
    "print(\"The specie with the average maximum value of the sepal length (cm): \", \n",
    "      df.groupby(['Iris name']).mean()['sepal_length'].idxmax(), \n",
    "      df.groupby(['Iris name']).mean()['sepal_length'].max(), \"cm\")"
   ]
  },
  {
   "cell_type": "code",
   "execution_count": 25,
   "metadata": {},
   "outputs": [
    {
     "data": {
      "text/html": [
       "<div>\n",
       "<style scoped>\n",
       "    .dataframe tbody tr th:only-of-type {\n",
       "        vertical-align: middle;\n",
       "    }\n",
       "\n",
       "    .dataframe tbody tr th {\n",
       "        vertical-align: top;\n",
       "    }\n",
       "\n",
       "    .dataframe thead th {\n",
       "        text-align: right;\n",
       "    }\n",
       "</style>\n",
       "<table border=\"1\" class=\"dataframe\">\n",
       "  <thead>\n",
       "    <tr style=\"text-align: right;\">\n",
       "      <th></th>\n",
       "      <th>sepal_length</th>\n",
       "      <th>sepal_width</th>\n",
       "      <th>petal_length</th>\n",
       "      <th>petal_width</th>\n",
       "    </tr>\n",
       "  </thead>\n",
       "  <tbody>\n",
       "    <tr>\n",
       "      <th>sepal_length</th>\n",
       "      <td>1.000000</td>\n",
       "      <td>-0.117570</td>\n",
       "      <td>0.871754</td>\n",
       "      <td>0.817941</td>\n",
       "    </tr>\n",
       "    <tr>\n",
       "      <th>sepal_width</th>\n",
       "      <td>-0.117570</td>\n",
       "      <td>1.000000</td>\n",
       "      <td>-0.428440</td>\n",
       "      <td>-0.366126</td>\n",
       "    </tr>\n",
       "    <tr>\n",
       "      <th>petal_length</th>\n",
       "      <td>0.871754</td>\n",
       "      <td>-0.428440</td>\n",
       "      <td>1.000000</td>\n",
       "      <td>0.962865</td>\n",
       "    </tr>\n",
       "    <tr>\n",
       "      <th>petal_width</th>\n",
       "      <td>0.817941</td>\n",
       "      <td>-0.366126</td>\n",
       "      <td>0.962865</td>\n",
       "      <td>1.000000</td>\n",
       "    </tr>\n",
       "  </tbody>\n",
       "</table>\n",
       "</div>"
      ],
      "text/plain": [
       "              sepal_length  sepal_width  petal_length  petal_width\n",
       "sepal_length      1.000000    -0.117570      0.871754     0.817941\n",
       "sepal_width      -0.117570     1.000000     -0.428440    -0.366126\n",
       "petal_length      0.871754    -0.428440      1.000000     0.962865\n",
       "petal_width       0.817941    -0.366126      0.962865     1.000000"
      ]
     },
     "execution_count": 25,
     "metadata": {},
     "output_type": "execute_result"
    }
   ],
   "source": [
    "data = df.iloc[:, 0:4]\n",
    "data.corr()"
   ]
  }
 ],
 "metadata": {
  "kernelspec": {
   "display_name": "venv_ita",
   "language": "python",
   "name": "python3"
  },
  "language_info": {
   "codemirror_mode": {
    "name": "ipython",
    "version": 3
   },
   "file_extension": ".py",
   "mimetype": "text/x-python",
   "name": "python",
   "nbconvert_exporter": "python",
   "pygments_lexer": "ipython3",
   "version": "3.11.5"
  },
  "orig_nbformat": 4
 },
 "nbformat": 4,
 "nbformat_minor": 2
}
