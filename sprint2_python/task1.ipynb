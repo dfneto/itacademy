{
 "cells": [
  {
   "cell_type": "code",
   "execution_count": 3,
   "metadata": {},
   "outputs": [
    {
     "name": "stdout",
     "output_type": "stream",
     "text": [
      "[['jan', 'feb', 'mar'], ['apr', 'may', 'jun'], ['jul', 'aug', 'sep'], ['oct', 'nov', 'dec']]\n"
     ]
    }
   ],
   "source": [
    "# Ex 1: Crea una llista que agrupi els mesos de l’any en trimestres (1T: gener, febrer i març; 2T: abril, maig, juny...), és a dir, una llista amb 4 llistes dins.\n",
    "year = []\n",
    "quarter1 = ['jan', 'feb', 'mar']\n",
    "quarter2 = ['apr', 'may', 'jun']\n",
    "quarter3 = ['jul', 'aug', 'sep']\n",
    "quarter4 = ['oct', 'nov', 'dec']\n",
    "year.append(quarter1)\n",
    "year.append(quarter2)\n",
    "year.append(quarter3)\n",
    "year.append(quarter4)\n",
    "print(year)"
   ]
  },
  {
   "cell_type": "code",
   "execution_count": 9,
   "metadata": {},
   "outputs": [
    {
     "name": "stdout",
     "output_type": "stream",
     "text": [
      "feb\n",
      "['jan', 'feb', 'mar']\n",
      "sep\n",
      "oct\n"
     ]
    }
   ],
   "source": [
    "# Ex 2: Crea un codi que et permeti accedir a:\n",
    "# El segon mes del primer trimestre.\n",
    "# Els mesos del primer trimestre.\n",
    "# Setembre i octubre.\n",
    "\n",
    "print(year[0][1])\n",
    "print(year[0])\n",
    "print(year[2][2])\n",
    "print(year[3][0])"
   ]
  },
  {
   "cell_type": "code",
   "execution_count": 63,
   "metadata": {},
   "outputs": [
    {
     "name": "stdout",
     "output_type": "stream",
     "text": [
      "[12, 13, 41, 7, 31, 2, 14, 22, 20, 38, 27, 25, 3, 21, 4, 34, 30, 33, 48, 46]\n",
      "20\n",
      "1\n",
      "2\n",
      "48\n",
      "[2, 3, 4]\n",
      "12 46\n"
     ]
    }
   ],
   "source": [
    "# Ex 3: Crea una llista amb nombres desordenats i respon a les següents preguntes:\n",
    "\n",
    "# Quants números hi ha?\n",
    "# Quantes vegades apareix el número 3.\n",
    "# Quantes vegades apareixen els nombres 3 i 4?\n",
    "# Quin és el número més gran?\n",
    "# Quins són els 3 números més petits?\n",
    "# Quin és el rang d’aquesta llista?\n",
    "\n",
    "import random, heapq\n",
    "random_list = random.sample(range(1, 50), 20)\n",
    "print(random_list)\n",
    "print(len(random_list))\n",
    "print(random_list.count(3))\n",
    "print(random_list.count(3)+random_list.count(4))\n",
    "print(max(random_list))\n",
    "print(heapq.nsmallest(3, random_list))\n",
    "print(random_list[0], random_list[-1])"
   ]
  },
  {
   "cell_type": "code",
   "execution_count": 64,
   "metadata": {},
   "outputs": [
    {
     "name": "stdout",
     "output_type": "stream",
     "text": [
      "New fruit:\n",
      "\tPlantano:  {'Qty': 10, '€': 1.42}\n",
      "Pears price:  1.98\n",
      "Total of fruits:  18\n",
      "Expensivier fruit:  1.42\n"
     ]
    }
   ],
   "source": [
    "# Ex 4: Crea un diccionari de la següent forma i respon a les preguntes:\n",
    "# compra = { \"Pomes\" : {\"Qty\": 5, \"€\": 0.42}, \"Peres\" : {\"Qty\": 3, \"€\": 0.66} }\n",
    "# Afegeix alguna fruita més\n",
    "# Quant han costat les peres en total?\n",
    "# Quantes fruites hem comprat en total?\n",
    "# Quina és la fruita més cara?\n",
    "\n",
    "compra = { \"Pomes\" : {\"Qty\": 5, \"€\": 0.42}, \"Peres\" : {\"Qty\": 3, \"€\": 0.66} }\n",
    "compra[\"Plantano\"] = {\"Qty\": 10, \"€\": 1.42}\n",
    "print(\"New fruit:\\n\\tPlantano: \", compra[\"Plantano\"])\n",
    "print(\"Pears price: \", compra[\"Peres\"][\"Qty\"]*compra[\"Peres\"][\"€\"])\n",
    "print(\"Total of fruits: \", sum(item[\"Qty\"] for item in compra.values()))\n",
    "print(\"Expensivier fruit: \", max(item[\"€\"] for item in compra.values()))"
   ]
  }
 ],
 "metadata": {
  "kernelspec": {
   "display_name": "venv_ita",
   "language": "python",
   "name": "python3"
  },
  "language_info": {
   "codemirror_mode": {
    "name": "ipython",
    "version": 3
   },
   "file_extension": ".py",
   "mimetype": "text/x-python",
   "name": "python",
   "nbconvert_exporter": "python",
   "pygments_lexer": "ipython3",
   "version": "3.11.5"
  },
  "orig_nbformat": 4
 },
 "nbformat": 4,
 "nbformat_minor": 2
}
