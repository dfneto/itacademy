{
 "cells": [
  {
   "cell_type": "code",
   "execution_count": 3,
   "metadata": {},
   "outputs": [
    {
     "name": "stdout",
     "output_type": "stream",
     "text": [
      "[['jan', 'feb', 'mar'], ['apr', 'may', 'jun'], ['jul', 'aug', 'sep'], ['oct', 'nov', 'dec']]\n"
     ]
    }
   ],
   "source": [
    "#Ex 1\n",
    "year = []\n",
    "quarter1 = ['jan', 'feb', 'mar']\n",
    "quarter2 = ['apr', 'may', 'jun']\n",
    "quarter3 = ['jul', 'aug', 'sep']\n",
    "quarter4 = ['oct', 'nov', 'dec']\n",
    "year.append(quarter1)\n",
    "year.append(quarter2)\n",
    "year.append(quarter3)\n",
    "year.append(quarter4)\n",
    "print(year)"
   ]
  },
  {
   "cell_type": "code",
   "execution_count": 9,
   "metadata": {},
   "outputs": [
    {
     "name": "stdout",
     "output_type": "stream",
     "text": [
      "feb\n",
      "['jan', 'feb', 'mar']\n",
      "sep\n",
      "oct\n"
     ]
    }
   ],
   "source": [
    "print(year[0][1])\n",
    "print(year[0])\n",
    "print(year[2][2])\n",
    "print(year[3][0])"
   ]
  },
  {
   "cell_type": "code",
   "execution_count": 34,
   "metadata": {},
   "outputs": [
    {
     "name": "stdout",
     "output_type": "stream",
     "text": [
      "[3, 30, 1, 7, 25, 18, 24, 20, 32, 47, 29, 45, 41, 35, 27, 9, 4, 14, 12, 22]\n",
      "20\n",
      "1\n",
      "47\n",
      "[1, 3, 4]\n"
     ]
    }
   ],
   "source": [
    "import random\n",
    "random_list = random.sample(range(1, 50), 20)\n",
    "print(random_list)\n",
    "print(len(random_list))\n",
    "print(random_list.count(3))\n",
    "# Quantes vegades apareixen els nombres 3 i 4?\n",
    "print(max(random_list))\n",
    "\n",
    "import heapq\n",
    "print(heapq.nsmallest(3, random_list))\n",
    "\n",
    "# Quin és el rang d’aquesta llista?"
   ]
  },
  {
   "cell_type": "code",
   "execution_count": null,
   "metadata": {},
   "outputs": [],
   "source": []
  },
  {
   "cell_type": "code",
   "execution_count": null,
   "metadata": {},
   "outputs": [],
   "source": []
  },
  {
   "cell_type": "code",
   "execution_count": null,
   "metadata": {},
   "outputs": [],
   "source": []
  }
 ],
 "metadata": {
  "kernelspec": {
   "display_name": "venv_ita",
   "language": "python",
   "name": "python3"
  },
  "language_info": {
   "codemirror_mode": {
    "name": "ipython",
    "version": 3
   },
   "file_extension": ".py",
   "mimetype": "text/x-python",
   "name": "python",
   "nbconvert_exporter": "python",
   "pygments_lexer": "ipython3",
   "version": "3.11.5"
  },
  "orig_nbformat": 4
 },
 "nbformat": 4,
 "nbformat_minor": 2
}
