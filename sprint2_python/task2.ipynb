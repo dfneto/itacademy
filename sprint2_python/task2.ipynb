{
 "cells": [
  {
   "cell_type": "code",
   "execution_count": 7,
   "metadata": {},
   "outputs": [
    {
     "name": "stdout",
     "output_type": "stream",
     "text": [
      "It mus be a number\n"
     ]
    }
   ],
   "source": [
    "# Ex 1: L'exercici consisteix a crear una funció que et classifiqui una variable numèrica en funció de l’escala Suspès/Aprovat/Notable/Excel·lent.\n",
    "# Recorda que Suspès < 5, Aprovat > 5 i < 7, Notable > 7 i < 9 i Excel·lent > 9.\n",
    "\n",
    "def my_function(num):\n",
    "    if (num < 5):\n",
    "        print(\"Failed\\n\")\n",
    "    elif (num >= 5 and num < 7):\n",
    "        print(\"Passed\\n\")\n",
    "    elif (num >= 7 and num < 9):\n",
    "        print(\"Notable\\n\")\n",
    "    else:\n",
    "        print(\"Excelent\\n\")\n",
    "try:\n",
    "    num = int(input(\"Digit a number between 0 and 10\"))\n",
    "    my_function(num)\n",
    "except:\n",
    "    print(\"It mus be a number\")\n"
   ]
  },
  {
   "cell_type": "code",
   "execution_count": 10,
   "metadata": {},
   "outputs": [
    {
     "name": "stdout",
     "output_type": "stream",
     "text": [
      "The second num is bigger\n"
     ]
    }
   ],
   "source": [
    "# Ex 2: Utilitzant el següent tutorial crea una funció que et pregunti dos números. T’ha de mostrar un missatge dient si el primer és més gran, el segon és més gran o són iguals.\n",
    "def get_biggest_num():\n",
    "    num1 = input('Enter a number: ')\n",
    "    num2 = input('Enter a second number: ')\n",
    "    print(\"The first num is bigger\" if (num1 > num2) else \"The second num is bigger\" if (num2 > num1) else \"The numbers are the same\")\n",
    "\n",
    "get_biggest_num()"
   ]
  },
  {
   "cell_type": "code",
   "execution_count": 12,
   "metadata": {},
   "outputs": [
    {
     "name": "stdout",
     "output_type": "stream",
     "text": [
      "Error ...\n"
     ]
    }
   ],
   "source": [
    "# Ex 3: Crea una funció que et pregunti el teu nom, i et demani un número. Si el número és 0, hauria de mostrar un missatge d’error. En cas contrari, hauria de mostrar el nom repetit tants cops com indiqui el número. Per exemple, “Joan Joan Joan”.\n",
    "name = input('Enter your name: ') + ' '\n",
    "num = int(input('Enter a number: '))\n",
    "if (num == 0):\n",
    "    print(\"Error ...\")\n",
    "else:\n",
    "    print(name * num)"
   ]
  },
  {
   "cell_type": "code",
   "execution_count": 9,
   "metadata": {},
   "outputs": [
    {
     "name": "stdout",
     "output_type": "stream",
     "text": [
      "The list has 7\n",
      "True\n"
     ]
    }
   ],
   "source": [
    "# Ex 4: Crea una funció que donada una llista qualsevol, et digui si és simètrica o no. Si ho és, que et digui quants elements té.\n",
    "def is_symmetric(lst):\n",
    "    start = 0\n",
    "    end = len(lst) - 1\n",
    "    \n",
    "    while start < end:\n",
    "        if lst[start] != lst[end]:\n",
    "            return False\n",
    "        start += 1\n",
    "        end -= 1\n",
    "    \n",
    "    print(f\"The list has {len(lst)} elements\")\n",
    "    return True\n",
    "print(is_symmetric([1, 2, 3, 4, 3, 2, 1 ]))"
   ]
  },
  {
   "cell_type": "code",
   "execution_count": 25,
   "metadata": {},
   "outputs": [
    {
     "name": "stdout",
     "output_type": "stream",
     "text": [
      "[2, 6]\n"
     ]
    }
   ],
   "source": [
    "# Ex 5: Crea una funció que donada una llista, et digui quants números coincideixen amb la seva posició. Per exemple [3,4,2,0,2,3,6] el 2 i el 6 coincideixen.\n",
    "def check(list):\n",
    "    matching_elements = []\n",
    "    for id, el in enumerate(list):\n",
    "        if (id == el):\n",
    "            matching_elements.append(el)\n",
    "    return matching_elements\n",
    "\n",
    "print(check([3, 4, 2, 0, 2, 3, 6]))"
   ]
  }
 ],
 "metadata": {
  "kernelspec": {
   "display_name": "venv_ita",
   "language": "python",
   "name": "python3"
  },
  "language_info": {
   "codemirror_mode": {
    "name": "ipython",
    "version": 3
   },
   "file_extension": ".py",
   "mimetype": "text/x-python",
   "name": "python",
   "nbconvert_exporter": "python",
   "pygments_lexer": "ipython3",
   "version": "3.11.5"
  },
  "orig_nbformat": 4
 },
 "nbformat": 4,
 "nbformat_minor": 2
}
