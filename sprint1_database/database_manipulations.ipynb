{
 "cells": [
  {
   "cell_type": "markdown",
   "metadata": {},
   "source": [
    "<h1>About the database</h1>\n",
    "The movies database has 5 tables, each one described belllow:\n",
    "Recording that each id is unique in a table and is used to represent a register in a table and for this reason all the tables have an id column.\n",
    "<h3>tb_movie</h3>\n",
    "movie_id: it is the id of the movie<br>\n",
    "movie_title: movie's title<br>\n",
    "movie_date: released movie's date<br>\n",
    "movie_format: can be Film or Digital<br>\n",
    "movie_genre_id: this is a foreign key to the table tb_genre, it means that to this column must have one (and just one) of the ids of the tb_genre. And an id of tb_genre cab be associated to many movies (relation 1:N)<br>\n",
    "\n",
    "<h3>tb_genre</h3>\n",
    "genre_id: it is the id of the table and used as foreign key to tb_movie<br> genre_name: is the name of the genre\n",
    "\n",
    "<h3>tb_role</h3>\n",
    "role_id: it is the id of the table and used as foreign key to <br>\n",
    "role_name: name of the role, like actor, director etc. <br>\n",
    "created_by_user: default OS_SGAD<br>\n",
    "\n",
    "<h3>tb_person</h3>\n",
    "From now on it will be explained just the fields that represent a relation between the tables, it means, the foreign keys.<br>\n",
    "person_parent_id: is a foreign key to the same table (tb_person) meaning the father of the person. In this database, a person can have one or none father. And a person can be father of many people.\n",
    "\n",
    "<h3>tb_movie_person</h3>\n",
    "This table indicates if a person, worked in a specific movie and in a specific role, was indicated to an award. So, this table will have 3 columns with a foreign key to the three tables related (tb_person, tb_movie, tb_role).<br>\n",
    "movie_id: it is an id of tb_movie.<br>\n",
    "person_id: it is an id of the tb_person. <br>\n",
    "role_id: it is an id of the tb_role. <br>\n",
    "In this table, the primary key is the set of these 3 values."
   ]
  },
  {
   "cell_type": "markdown",
   "metadata": {},
   "source": []
  },
  {
   "cell_type": "code",
   "execution_count": null,
   "metadata": {},
   "outputs": [],
   "source": [
    "import mysql.connector\n",
    "\n",
    "#connecting to the database\n",
    "mydb = mysql.connector.connect(\n",
    "  host=\"localhost\",\n",
    "  user=\"root\",\n",
    "  password=\"12345678\",\n",
    "  database=\"movies\"\n",
    ")\n",
    "\n",
    "print(mydb)"
   ]
  },
  {
   "cell_type": "code",
   "execution_count": null,
   "metadata": {},
   "outputs": [],
   "source": [
    "#selecting all the registers from table movie\n",
    "mycursor = mydb.cursor()\n",
    "mycursor.execute(\"SELECT * FROM tb_movie\")\n",
    "myresult = mycursor.fetchall()\n",
    "\n",
    "for x in myresult:\n",
    "  print(x)"
   ]
  },
  {
   "cell_type": "code",
   "execution_count": 8,
   "metadata": {},
   "outputs": [
    {
     "name": "stdout",
     "output_type": "stream",
     "text": [
      "('tb_genre',)\n",
      "('tb_movie',)\n",
      "('tb_movie_person',)\n",
      "('tb_person',)\n",
      "('tb_role',)\n"
     ]
    }
   ],
   "source": [
    "mycursor.execute(\"show tables\")\n",
    "myresult = mycursor.fetchall()\n",
    "\n",
    "for x in myresult:\n",
    "  print(x)"
   ]
  }
 ],
 "metadata": {
  "kernelspec": {
   "display_name": "venv_ita",
   "language": "python",
   "name": "python3"
  },
  "language_info": {
   "codemirror_mode": {
    "name": "ipython",
    "version": 3
   },
   "file_extension": ".py",
   "mimetype": "text/x-python",
   "name": "python",
   "nbconvert_exporter": "python",
   "pygments_lexer": "ipython3",
   "version": "3.11.5"
  },
  "orig_nbformat": 4
 },
 "nbformat": 4,
 "nbformat_minor": 2
}
