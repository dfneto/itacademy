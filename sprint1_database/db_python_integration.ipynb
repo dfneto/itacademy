{
 "cells": [
  {
   "cell_type": "markdown",
   "metadata": {},
   "source": []
  },
  {
   "cell_type": "code",
   "execution_count": 27,
   "metadata": {},
   "outputs": [
    {
     "name": "stdout",
     "output_type": "stream",
     "text": [
      "<mysql.connector.connection_cext.CMySQLConnection object at 0x10e68b350>\n"
     ]
    }
   ],
   "source": [
    "import mysql.connector\n",
    "\n",
    "#connecting to the database\n",
    "mydb = mysql.connector.connect(\n",
    "  host=\"localhost\",\n",
    "  user=\"root\",\n",
    "  password=\"12345678\",\n",
    "  database=\"movies\"\n",
    ")\n",
    "print(mydb)\n",
    "mycursor = mydb.cursor()\n"
   ]
  },
  {
   "cell_type": "code",
   "execution_count": null,
   "metadata": {},
   "outputs": [],
   "source": [
    "# Ex 2: Has d'obtenir el nom, el país i la data de naixement d'aquelles persones per les quals no consti una data\n",
    "# de mort i ordenar les dades de la persona més vella a la persona més jove.\n",
    "mycursor.execute(\"select person_name , person_country , person_dob  from tb_person tp where person_dod IS NULL order by person_dob;\")\n",
    "myresult = mycursor.fetchall()\n",
    "myresult"
   ]
  },
  {
   "cell_type": "code",
   "execution_count": null,
   "metadata": {},
   "outputs": [],
   "source": [
    "# Ex 3: Has d'obtenir el nom del gènere i el nombre total de pel·lícules d'aquest gènere i \n",
    "# ordenar-ho per ordre descendent de nombre total de pel·lícules.\n",
    "mycursor.execute(\"SELECT  tg.genre_name , COUNT(*) AS total_movies \\\n",
    "                    FROM tb_movie tm \\\n",
    "                    JOIN tb_genre tg ON tm.movie_genre_id = tg.genre_id \\\n",
    "                    GROUP BY tm.movie_genre_id  \\\n",
    "                    ORDER BY total_movies DESC\")\n",
    "myresult = mycursor.fetchall()\n",
    "myresult"
   ]
  },
  {
   "cell_type": "code",
   "execution_count": 31,
   "metadata": {},
   "outputs": [
    {
     "data": {
      "text/plain": [
       "([('Apocalypse Now', 'Carmine Coppola', 'Música'),\n",
       "  ('Apocalypse Now', 'Charlie Sheen', 'Actor'),\n",
       "  ('Apocalypse Now', 'Francis Ford Coppola', 'Música'),\n",
       "  ('Apocalypse Now', 'Francis Ford Coppola', 'Productor'),\n",
       "  ('Apocalypse Now', 'Francis Ford Coppola', 'Director'),\n",
       "  ('Apocalypse Now', 'Harrison Ford', 'Actor'),\n",
       "  ('Apocalypse Now', 'Marlon Brando', 'Actor'),\n",
       "  ('Apocalypse Now', 'Martin Sheen', 'Actor'),\n",
       "  ('Apocalypse Now', 'Robert Duvall', 'Actor'),\n",
       "  ('Braveheart', 'Mel Gibson', 'Director'),\n",
       "  ('Braveheart', 'Mel Gibson', 'Actor'),\n",
       "  ('El otro lado de la cama', 'Emilio Martinez Lazaro', 'Director'),\n",
       "  ('ET The Extraterrestrial', 'Steven Spielberg', 'Director'),\n",
       "  ('Indiana Jones and the Temple of Doom', 'George Lucas', 'Actor'),\n",
       "  ('Indiana Jones and the Temple of Doom', 'George Lucas', 'Guionista'),\n",
       "  ('Indiana Jones and the Temple of Doom', 'Harrison Ford', 'Actor'),\n",
       "  ('Indiana Jones and the Temple of Doom', 'John Williams', 'Música'),\n",
       "  ('Indiana Jones and the Temple of Doom', 'Steven Spielberg', 'Director'),\n",
       "  ('Jaws', 'Steven Spielberg', 'Director'),\n",
       "  ('La Gran Familia Española', 'Daniel Sanchez Arevalo', 'Guionista'),\n",
       "  ('La Gran Familia Española', 'Daniel Sanchez Arevalo', 'Director'),\n",
       "  ('La Gran Familia Española', 'Hector Colome', 'Actor'),\n",
       "  ('La Gran Familia Española', 'Patrick Criado', 'Actor'),\n",
       "  ('La Gran Familia Española', 'Quim Gutierrez', 'Actor'),\n",
       "  ('La Gran Familia Española', 'Robert Alamo', 'Actor'),\n",
       "  ('La Gran Familia Española', 'Veronica Echegui', 'Actor'),\n",
       "  ('Ocho Apellidos Catalanes', 'Carmen Machi', 'Actor'),\n",
       "  ('Ocho Apellidos Catalanes', 'Clara Lago', 'Actor'),\n",
       "  ('Ocho Apellidos Catalanes', 'Dani Rovira', 'Actor'),\n",
       "  ('Ocho Apellidos Catalanes', 'Emilio Martinez Lazaro', 'Director'),\n",
       "  ('Ocho Apellidos Catalanes', 'Karra Elejalde', 'Actor'),\n",
       "  ('Ocho Apellidos Vascos', 'Carmen Machi', 'Actor'),\n",
       "  ('Ocho Apellidos Vascos', 'Clara Lago', 'Actor'),\n",
       "  ('Ocho Apellidos Vascos', 'Dani Rovira', 'Actor'),\n",
       "  ('Ocho Apellidos Vascos', 'Emilio Martinez Lazaro', 'Director'),\n",
       "  ('Ocho Apellidos Vascos', 'Karra Elejalde', 'Actor'),\n",
       "  ('Psycho', 'Alfred Joseph Hitchcock', 'Director'),\n",
       "  ('Psycho', 'Alfred Joseph Hitchcock', 'Actor'),\n",
       "  ('Psycho', 'Alfred Joseph Hitchcock', 'Productor'),\n",
       "  ('Psycho', 'Anthony Perkins', 'Director'),\n",
       "  ('Psycho', 'Vera Miles', 'Director'),\n",
       "  ('Star Wars:Episode IV - A New Hope', 'Gary Kurtz', 'Productor'),\n",
       "  ('Star Wars:Episode IV - A New Hope', 'George Lucas', 'Director'),\n",
       "  ('Star Wars:Episode IV - A New Hope', 'Harrison Ford', 'Actor'),\n",
       "  ('The Shawshank Redemption', 'Morgan Freeman', 'Actor'),\n",
       "  ('The Shawshank Redemption', 'Tim Robbins', 'Actor'),\n",
       "  ('The Terminal', 'Catherine Zeta-Jones', 'Actor'),\n",
       "  ('The Terminal', 'Steven Spielberg', 'Director'),\n",
       "  ('The Terminal', 'Steven Spielberg', 'Productor'),\n",
       "  ('The Terminal', 'Tom Hanks', 'Actor')],\n",
       " [('Alfred Joseph Hitchcock', 3),\n",
       "  ('Daniel Sanchez Arevalo', 2),\n",
       "  ('Francis Ford Coppola', 3),\n",
       "  ('George Lucas', 3),\n",
       "  ('Mel Gibson', 2),\n",
       "  ('Steven Spielberg', 2)])"
      ]
     },
     "execution_count": 31,
     "metadata": {},
     "output_type": "execute_result"
    }
   ],
   "source": [
    "# Ex 4: You need to get, for each person, their name and the maximum number of different roles they have had in the same movie.\n",
    "# Subsequently, it only shows those people who have assumed more than one role in the same film.\n",
    "# Starting from this query bellow it's easier to understand the final query\n",
    "mycursor.execute(\"SELECT tm.movie_title, tp.person_name, tr.role_name \\\n",
    "                    FROM tb_movie_person tmp \\\n",
    "                    JOIN tb_person tp ON tmp.person_id = tp.person_id \\\n",
    "                    JOIN tb_role tr  ON tmp.role_id = tr.role_id \\\n",
    "                    JOIN tb_movie tm ON tmp.movie_id = tm.movie_id \\\n",
    "                    ORDER BY tm.movie_title, tp.person_name\")\n",
    "first_query_result = mycursor.fetchall()\n",
    "mycursor.execute(\"SELECT tp.person_name, count(DISTINCT tr.role_name) \\\n",
    "                    FROM tb_movie_person tmp \\\n",
    "                    JOIN tb_person tp ON tmp.person_id = tp.person_id \\\n",
    "                    JOIN tb_role tr  ON tmp.role_id = tr.role_id \\\n",
    "                    JOIN tb_movie tm ON tmp.movie_id = tm.movie_id \\\n",
    "                    GROUP BY tp.person_name \\\n",
    "                    HAVING COUNT(DISTINCT tr.role_name) > 1\")\n",
    "final_query_result = mycursor.fetchall()\n",
    "first_query_result, final_query_result"
   ]
  },
  {
   "cell_type": "code",
   "execution_count": 46,
   "metadata": {},
   "outputs": [
    {
     "name": "stdout",
     "output_type": "stream",
     "text": [
      "(90, 'Documentary', 'OS_SGAD', None, None)\n"
     ]
    }
   ],
   "source": [
    "# Ex5: You must create a new genre called \"Documentary\" which has the number 69 as its identifier.\n",
    "mycursor.execute(\"INSERT INTO movies.tb_genre \\\n",
    "                    (genre_id, genre_name) \\\n",
    "                    VALUES(69, 'Documentary')\")\n",
    "mycursor.fetchall()\n",
    "mycursor.execute(\"SELECT * FROM movies.tb_genre WHERE genre_id = 69\")\n",
    "myresult = mycursor.fetchall()\n",
    "for x in myresult:\n",
    "  print(x)\n"
   ]
  }
 ],
 "metadata": {
  "kernelspec": {
   "display_name": "venv_ita",
   "language": "python",
   "name": "python3"
  },
  "language_info": {
   "codemirror_mode": {
    "name": "ipython",
    "version": 3
   },
   "file_extension": ".py",
   "mimetype": "text/x-python",
   "name": "python",
   "nbconvert_exporter": "python",
   "pygments_lexer": "ipython3",
   "version": "3.11.5"
  },
  "orig_nbformat": 4
 },
 "nbformat": 4,
 "nbformat_minor": 2
}
