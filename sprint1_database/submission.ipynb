{
 "cells": [
  {
   "cell_type": "markdown",
   "metadata": {},
   "source": [
    "<h1>About the database</h1>\n",
    "The movies database has 5 tables, each one described belllow:\n",
    "Recording that each id is unique in a table and is used to represent a register in a table and for this reason all the tables have an id column.\n",
    "<h3>tb_movie</h3>\n",
    "movie_id: it is the id of the movie<br>\n",
    "movie_title: movie's title<br>\n",
    "movie_date: released movie's date<br>\n",
    "movie_format: can be Film or Digital<br>\n",
    "movie_genre_id: this is a foreign key to the table tb_genre, it means that to this column must have one (and just one) of the ids of the tb_genre. And an id of tb_genre cab be associated to many movies (relation 1:N)<br>\n",
    "\n",
    "<h3>tb_genre</h3>\n",
    "genre_id: it is the id of the table and used as foreign key to tb_movie<br> genre_name: is the name of the genre\n",
    "\n",
    "<h3>tb_role</h3>\n",
    "role_id: it is the id of the table and used as foreign key to <br>\n",
    "role_name: name of the role, like actor, director etc. <br>\n",
    "created_by_user: default OS_SGAD<br>\n",
    "\n",
    "<h3>tb_person</h3>\n",
    "From now on it will be explained just the fields that represent a relation between the tables, it means, the foreign keys.<br>\n",
    "person_parent_id: is a foreign key to the same table (tb_person) meaning the father of the person. In this database, a person can have one or none father. And a person can be father of many people.\n",
    "\n",
    "<h3>tb_movie_person</h3>\n",
    "This table indicates if a person, worked in a specific movie and in a specific role, was indicated to an award. So, this table will have 3 columns with a foreign key to the three tables related (tb_person, tb_movie, tb_role).<br>\n",
    "movie_id: it is an id of tb_movie.<br>\n",
    "person_id: it is an id of the tb_person. <br>\n",
    "role_id: it is an id of the tb_role. <br>\n",
    "In this table, the primary key is the set of these 3 values."
   ]
  },
  {
   "cell_type": "markdown",
   "metadata": {},
   "source": []
  },
  {
   "cell_type": "code",
   "execution_count": 27,
   "metadata": {},
   "outputs": [
    {
     "name": "stdout",
     "output_type": "stream",
     "text": [
      "<mysql.connector.connection_cext.CMySQLConnection object at 0x10e68b350>\n"
     ]
    }
   ],
   "source": [
    "import mysql.connector\n",
    "\n",
    "#connecting to the database\n",
    "mydb = mysql.connector.connect(\n",
    "  host=\"localhost\",\n",
    "  user=\"root\",\n",
    "  password=\"12345678\",\n",
    "  database=\"movies\"\n",
    ")\n",
    "print(mydb)\n",
    "mycursor = mydb.cursor()\n"
   ]
  },
  {
   "cell_type": "code",
   "execution_count": null,
   "metadata": {},
   "outputs": [],
   "source": [
    "# Ex 2: Has d'obtenir el nom, el país i la data de naixement d'aquelles persones per les quals no consti una data\n",
    "# de mort i ordenar les dades de la persona més vella a la persona més jove.\n",
    "mycursor.execute(\"select person_name , person_country , person_dob  from tb_person tp where person_dod IS NULL order by person_dob;\")\n",
    "myresult = mycursor.fetchall()\n",
    "myresult"
   ]
  },
  {
   "cell_type": "code",
   "execution_count": 23,
   "metadata": {},
   "outputs": [
    {
     "data": {
      "text/plain": [
       "[('Comedia', 3),\n",
       " ('Acción', 2),\n",
       " ('Ciencia Ficción', 2),\n",
       " ('Drama', 2),\n",
       " ('Romance', 2),\n",
       " ('Suspense', 2),\n",
       " ('Fantasía', 1),\n",
       " ('Terror', 1),\n",
       " ('Bélico', 1)]"
      ]
     },
     "execution_count": 23,
     "metadata": {},
     "output_type": "execute_result"
    }
   ],
   "source": [
    "# Ex 3: Has d'obtenir el nom del gènere i el nombre total de pel·lícules d'aquest gènere i \n",
    "# ordenar-ho per ordre descendent de nombre total de pel·lícules.\n",
    "mycursor.execute(\"SELECT  tg.genre_name , COUNT(*) AS total_movies \\\n",
    "                    FROM tb_movie tm \\\n",
    "                    JOIN tb_genre tg ON tm.movie_genre_id = tg.genre_id \\\n",
    "                    GROUP BY tm.movie_genre_id  \\\n",
    "                    ORDER BY total_movies DESC\")\n",
    "myresult = mycursor.fetchall()\n",
    "myresult"
   ]
  },
  {
   "cell_type": "code",
   "execution_count": 28,
   "metadata": {},
   "outputs": [
    {
     "data": {
      "text/plain": [
       "[('Alfred Joseph Hitchcock', 3),\n",
       " ('Daniel Sanchez Arevalo', 2),\n",
       " ('Francis Ford Coppola', 3),\n",
       " ('George Lucas', 3),\n",
       " ('Mel Gibson', 2),\n",
       " ('Steven Spielberg', 2)]"
      ]
     },
     "execution_count": 28,
     "metadata": {},
     "output_type": "execute_result"
    }
   ],
   "source": [
    "# Ex 4: You need to get, for each person, their name and the maximum number of different roles they have had in the same movie.\n",
    "# Subsequently, it only shows those people who have assumed more than one role in the same film.\n",
    "# Starting from this query bellow it's easier to understand the final query\n",
    "mycursor.execute(\"SELECT tm.movie_title, tp.person_name, tr.role_name \\\n",
    "                    FROM tb_movie_person tmp \\\n",
    "                    JOIN tb_person tp ON tmp.person_id = tp.person_id \\\n",
    "                    JOIN tb_role tr  ON tmp.role_id = tr.role_id \\\n",
    "                    JOIN tb_movie tm ON tmp.movie_id = tm.movie_id \\\n",
    "                    ORDER BY tm.movie_title, tp.person_name\")\n",
    "mycursor.execute(\"SELECT tp.person_name, count(DISTINCT tr.role_name) \\\n",
    "                    FROM tb_movie_person tmp \\\n",
    "                    JOIN tb_person tp ON tmp.person_id = tp.person_id \\\n",
    "                    JOIN tb_role tr  ON tmp.role_id = tr.role_id \\\n",
    "                    JOIN tb_movie tm ON tmp.movie_id = tm.movie_id \\\n",
    "                    GROUP BY tp.person_name \\\n",
    "                    HAVING COUNT(DISTINCT tr.role_name) > 1\")\n",
    "myresult = mycursor.fetchall()\n",
    "myresult"
   ]
  },
  {
   "cell_type": "markdown",
   "metadata": {},
   "source": [
    "<h1> Here are the sqls </h1>\n",
    "\n",
    "<h3> Ex 2: </h3>\n",
    "select person_name , person_country , person_dob  from tb_person tp where person_dod IS NULL order by person_dob; <br>\n",
    "<h3> Ex 3: </h3>\n",
    "SELECT  tg.genre_name , COUNT(*) AS total_movies <br>\n",
    "FROM tb_movie tm <br>\n",
    "JOIN tb_genre tg ON tm.movie_genre_id = tg.genre_id <br>\n",
    "GROUP BY tm.movie_genre_id  <br>\n",
    "ORDER BY total_movies DESC <br>\n",
    "<h3> Ex 4: </h3>\n",
    "SELECT tp.person_name, count(DISTINCT tr.role_name)\n",
    "FROM tb_movie_person tmp \n",
    "JOIN tb_person tp ON tmp.person_id = tp.person_id \n",
    "JOIN tb_role tr  ON tmp.role_id = tr.role_id \n",
    "JOIN tb_movie tm ON tmp.movie_id = tm.movie_id \n",
    "GROUP BY tp.person_name\n",
    "HAVING COUNT(DISTINCT tr.role_name) > 1"
   ]
  }
 ],
 "metadata": {
  "kernelspec": {
   "display_name": "venv_ita",
   "language": "python",
   "name": "python3"
  },
  "language_info": {
   "codemirror_mode": {
    "name": "ipython",
    "version": 3
   },
   "file_extension": ".py",
   "mimetype": "text/x-python",
   "name": "python",
   "nbconvert_exporter": "python",
   "pygments_lexer": "ipython3",
   "version": "3.11.5"
  },
  "orig_nbformat": 4
 },
 "nbformat": 4,
 "nbformat_minor": 2
}
